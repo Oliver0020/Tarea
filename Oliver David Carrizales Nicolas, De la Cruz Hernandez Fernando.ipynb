{
 "cells": [
  {
   "cell_type": "markdown",
   "metadata": {},
   "source": [
    "# INTRODUCTION TO PYTHON #\n",
    "## How To Print Text In Python ##"
   ]
  },
  {
   "cell_type": "markdown",
   "metadata": {},
   "source": [
    "The command or word reserved print allows you to make a screen impression inside what you have written on this"
   ]
  },
  {
   "cell_type": "code",
   "execution_count": 1,
   "metadata": {},
   "outputs": [
    {
     "name": "stdout",
     "output_type": "stream",
     "text": [
      "Hello MEC3D\n",
      "This is an on-screen text printing test\n"
     ]
    }
   ],
   "source": [
    "print(\"Hello MEC3D\")\n",
    "print(\"This is an on-screen text printing test\")"
   ]
  },
  {
   "cell_type": "markdown",
   "metadata": {},
   "source": [
    "## Comments And Functions ##"
   ]
  },
  {
   "cell_type": "markdown",
   "metadata": {},
   "source": [
    "Python and any programming environment, the comments will not be read by the compiler, they will only be ignored. Functions: You can add comments to help, either to remember something from that line, etc. If we need a line of code to be omitted, just put a comment at the beginning"
   ]
  },
  {
   "cell_type": "code",
   "execution_count": 2,
   "metadata": {},
   "outputs": [
    {
     "name": "stdout",
     "output_type": "stream",
     "text": [
      "Enter the First Value: \n",
      "Enter the Second Value: \n"
     ]
    }
   ],
   "source": [
    "# To place a comment we just have to put (#) \n",
    "\n",
    "int = 5 #This value is of the integer type and will be omitted by the compiler.\n",
    "float = 3.2 #This value is floating type\n",
    "\n",
    "print(\"Enter the First Value: \")\n",
    "\n",
    "print(\"Enter the Second Value: \")"
   ]
  },
  {
   "cell_type": "markdown",
   "metadata": {},
   "source": [
    "\n",
    "## Numbers, Symbols and Mathematical Operations ##"
   ]
  },
  {
   "cell_type": "markdown",
   "metadata": {},
   "source": [
    "Each environment or programming language has a way of doing mathematical operations, in this way we will solve a mathematical problem with the help of the operators, these are: (+) Plus (-) Minus (/) Slash - To divide (*) Asterisk - To multiply (%) Percent (<) Less Than (>) Greater Than (<=) Lower Than Equal (=>) Less Than Equal"
   ]
  },
  {
   "cell_type": "code",
   "execution_count": 3,
   "metadata": {},
   "outputs": [
    {
     "name": "stdout",
     "output_type": "stream",
     "text": [
      "Instructions: \n",
      " Solve mathematical problem by applying the hierarchy of operations.\n",
      " Problem No1: (40) / (-10)*(2)  \n",
      " Correct result:  -8.0\n"
     ]
    }
   ],
   "source": [
    "print (\"Instructions: \")\n",
    "print (\" Solve mathematical problem by applying the hierarchy of operations.\")\n",
    "print (\" Problem No1: (40) / (-10)*(2)  \") #Result is -8\n",
    "print (\" Correct result: \",(40) / (-10)*(2) )"
   ]
  },
  {
   "cell_type": "markdown",
   "metadata": {},
   "source": [
    "## Variables And Names ##"
   ]
  },
  {
   "cell_type": "markdown",
   "metadata": {},
   "source": [
    "A variable in programming can be any name you want, in addition to this you can place a value. Its function is to store a value to be occupied later in a line of code."
   ]
  },
  {
   "cell_type": "code",
   "execution_count": 4,
   "metadata": {},
   "outputs": [
    {
     "name": "stdout",
     "output_type": "stream",
     "text": [
      "How many neurons does the human being have?\n",
      "It is estimated that the brain of the human being has a number of about 86 one billion neurons.\n",
      "Would you like to know how many planets are in the Solar System?\n",
      "We have 8 Planetas in the solar system\n"
     ]
    }
   ],
   "source": [
    "neurons = 86\n",
    "bones = 206\n",
    "Planets_Solar_System= 8\n",
    "Mercury = 0\n",
    "Venus = 0\n",
    "Earth = 1\n",
    "Mars = 2\n",
    "Jupiter = 67\n",
    "Saturn =62\n",
    "Uranus = 27\n",
    "Neptune = 14\n",
    "\n",
    "print(\"How many neurons does the human being have?\")\n",
    "print(\"It is estimated that the brain of the human being has a number of about\", neurons,\"one billion neurons.\")\n",
    "\n",
    "print(\"Would you like to know how many planets are in the Solar System?\")\n",
    "print(\"We have\", Planets_Solar_System, \"Planetas in the solar system\")"
   ]
  },
  {
   "cell_type": "markdown",
   "metadata": {},
   "source": [
    "## Second Part Of Variables And Printing ##"
   ]
  },
  {
   "cell_type": "markdown",
   "metadata": {},
   "source": [
    "Now in this section it is similar to the previous part only this time we will use format string."
   ]
  },
  {
   "cell_type": "code",
   "execution_count": 5,
   "metadata": {},
   "outputs": [
    {
     "name": "stdout",
     "output_type": "stream",
     "text": [
      "School Information\n",
      "Name: Fernando De La Cruz Hernandez\n",
      "Age: 18\n",
      "Enrollment: 491811207\n",
      "Quarter: 3\n",
      "Career: Mechatronics\n"
     ]
    }
   ],
   "source": [
    "name = 'Fernando De La Cruz Hernandez'\n",
    "age = 18\n",
    "enrollment = 491811207\n",
    "quarter = 3\n",
    "career = 'Mechatronics'\n",
    "\n",
    "print(\"School Information\")\n",
    "\n",
    "print(f\"Name: {name}\")\n",
    "print(f\"Age: {age}\")\n",
    "print(f\"Enrollment: {enrollment}\")\n",
    "print(f\"Quarter: {quarter}\")\n",
    "print(f\"Career: {career}\")"
   ]
  },
  {
   "cell_type": "markdown",
   "metadata": {},
   "source": [
    "## Exercise 6 ##"
   ]
  },
  {
   "cell_type": "markdown",
   "metadata": {},
   "source": [
    "In this code you match a certain number to a constant, then you put a letter to print on the screen and put a phrase and instead of putting the number or phrase that you have matched at first you put the variable and when running the code should appear the saved data"
   ]
  },
  {
   "cell_type": "code",
   "execution_count": 6,
   "metadata": {},
   "outputs": [
    {
     "name": "stdout",
     "output_type": "stream",
     "text": [
      "there are 8 kinds of cars\n",
      "And too there are 8 kinds of motorcycles\n"
     ]
    }
   ],
   "source": [
    "types_of_cars= 8\n",
    "types_of_motorcycles=8\n",
    "\n",
    "x = f\"there are {types_of_cars} kinds of cars\"\n",
    "\n",
    "y = f\"And too there are {types_of_motorcycles} kinds of motorcycles\"\n",
    "\n",
    "print (x)\n",
    "print (y)"
   ]
  },
  {
   "cell_type": "markdown",
   "metadata": {},
   "source": [
    "## Exercise 7 ##"
   ]
  },
  {
   "cell_type": "markdown",
   "metadata": {},
   "source": [
    "On this occasion we continue printing on screen, after each letter of a name we keep it in a constant, then make a sum where we add the name we give to the place where we save the data and at the end it will show us what the data is saving one after another"
   ]
  },
  {
   "cell_type": "code",
   "execution_count": 7,
   "metadata": {},
   "outputs": [
    {
     "name": "stdout",
     "output_type": "stream",
     "text": [
      "Oliver likes the box\n",
      "For him it is an interesting sport where you have to think a lot\n",
      "So,he is waiting to watch the fight of the\n",
      "CANELO\n"
     ]
    }
   ],
   "source": [
    "print (\"Oliver likes the box\")\n",
    "print (\"For him it is an interesting sport where you have to think a lot\")\n",
    "print (\"So,he is waiting to watch the fight of the\")\n",
    "end1 = \"C\"\n",
    "end2 = \"A\"\n",
    "end3 = \"N\"\n",
    "end4 = \"E\"\n",
    "end5 = \"L\"\n",
    "end6 = \"O\"\n",
    "print (end1 + end2 + end3 + end4 + end5 + end6)"
   ]
  },
  {
   "cell_type": "markdown",
   "metadata": {},
   "source": [
    "## Exercise 8 ##"
   ]
  },
  {
   "cell_type": "markdown",
   "metadata": {},
   "source": [
    "this code looks difficult, but it's almost the same as the previous ones where you save data this time it will be in the keys"
   ]
  },
  {
   "cell_type": "code",
   "execution_count": 8,
   "metadata": {},
   "outputs": [
    {
     "name": "stdout",
     "output_type": "stream",
     "text": [
      "1  2  3  4\n",
      "one  two  three  four\n",
      "True  False  False  True\n",
      "{}  {}  {}  {}  {}  {}  {}  {}  {}  {}  {}  {}  {}  {}  {}  {}\n"
     ]
    }
   ],
   "source": [
    "formatter = \"{}  {}  {}  {}\"\n",
    "print(formatter.format(1, 2, 3, 4))\n",
    "print(formatter.format(\"one\", \"two\", \"three\", \"four\"))\n",
    "print(formatter.format(True, False, False, True))\n",
    "print(formatter.format(formatter, formatter, formatter, formatter))"
   ]
  },
  {
   "cell_type": "markdown",
   "metadata": {},
   "source": [
    "## Exercise 9 ##"
   ]
  },
  {
   "cell_type": "markdown",
   "metadata": {},
   "source": [
    "this time we will add several data in \"days in\" months \"but by saving them all together and print screen, we will see all the data that was saved"
   ]
  },
  {
   "cell_type": "code",
   "execution_count": 11,
   "metadata": {},
   "outputs": [
    {
     "name": "stdout",
     "output_type": "stream",
     "text": [
      "The days of the weak are:  Monday Tuesday Wednesday Thursday Friday Saturday Sunday\n"
     ]
    }
   ],
   "source": [
    "days=\"Monday Tuesday Wednesday Thursday Friday Saturday Sunday\"\n",
    "\n",
    "\n",
    "print(\"The days of the weak are: \", days)"
   ]
  },
  {
   "cell_type": "markdown",
   "metadata": {},
   "source": [
    "## Exercise 10 ##"
   ]
  },
  {
   "cell_type": "markdown",
   "metadata": {},
   "source": [
    "this is almost the same case is just print the things that is indicated"
   ]
  },
  {
   "cell_type": "code",
   "execution_count": 12,
   "metadata": {},
   "outputs": [
    {
     "name": "stdout",
     "output_type": "stream",
     "text": [
      "\tI´m tabbed in.\n"
     ]
    }
   ],
   "source": [
    "tabby_cat = \"\\tI´m tabbed in.\"\n",
    "print (tabby_cat)"
   ]
  }
 ],
 "metadata": {
  "kernelspec": {
   "display_name": "Python 3",
   "language": "python",
   "name": "python3"
  },
  "language_info": {
   "codemirror_mode": {
    "name": "ipython",
    "version": 3
   },
   "file_extension": ".py",
   "mimetype": "text/x-python",
   "name": "python",
   "nbconvert_exporter": "python",
   "pygments_lexer": "ipython3",
   "version": "3.7.4"
  }
 },
 "nbformat": 4,
 "nbformat_minor": 2
}
